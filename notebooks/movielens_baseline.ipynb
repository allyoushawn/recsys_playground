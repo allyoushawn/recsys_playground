{
  "cells": [
    {
      "cell_type": "markdown",
      "metadata": {},
      "source": [
        "# MovieLens-100K Baseline\n\nThis notebook loads the MovieLens-100K dataset, does quick EDA, and performs a basic train/test split."]
    },
    {
      "cell_type": "code",
      "execution_count": null,
      "metadata": {},
      "outputs": [],
      "source": [
        "# If running in Colab, you may need to install dependencies:\n",
        "# !pip install pandas numpy scikit-learn\n",
        "%matplotlib inline\n",
        "import pandas as pd\n",
        "import numpy as np\n",
        "import matplotlib.pyplot as plt\n",
        "from sklearn.model_selection import train_test_split\n",
        "import os, sys\n",
        "# Ensure we can import from src/ when running the notebook directly\n",
        "repo_root = os.path.abspath(os.path.join(os.getcwd()))\n",
        "src_path = os.path.join(repo_root, 'src')\n",
        "if src_path not in sys.path:\n",
        "    sys.path.insert(0, src_path)\n",
        "from data.movielens import load_movielens_100k\n"
      ]
    },
    {
      "cell_type": "code",
      "execution_count": null,
      "metadata": {},
      "outputs": [],
      "source": [
        "# Load dataset (downloads on first run)\n",
        "df = load_movielens_100k()\n",
        "df.head()"
      ]
    },
    {
      "cell_type": "code",
      "execution_count": null,
      "metadata": {},
      "outputs": [],
      "source": [
        "# Shape and basic info\n",
        "print('Shape:', df.shape)\n",
        "print('Columns:', list(df.columns))\n",
        "print('Rating stats:')\n",
        "print(df['rating'].describe())\n"
      ]
    },
    {
      "cell_type": "code",
      "execution_count": null,
      "metadata": {},
      "outputs": [],
      "source": [
        "# Ratings histogram\n",
        "df['rating'].plot(kind='hist', bins=5, edgecolor='black', title='Ratings Histogram')\n",
        "plt.xlabel('Rating')\n",
        "plt.show()\n"
      ]
    },
    {
      "cell_type": "code",
      "execution_count": null,
      "metadata": {},
      "outputs": [],
      "source": [
        "# Train/test split (80/20)\n",
        "train_df, test_df = train_test_split(df, test_size=0.2, random_state=42)\n",
        "print('Train shape:', train_df.shape)\n",
        "print('Test shape:', test_df.shape)\n",
        "print('Train rating mean:', train_df['rating'].mean())\n",
        "print('Test rating mean:', test_df['rating'].mean())\n"
      ]
    }
  ],
  "metadata": {
    "kernelspec": {
      "display_name": "Python 3",
      "language": "python",
      "name": "python3"
    },
    "language_info": {
      "name": "python",
      "version": "3.x"
    }
  },
  "nbformat": 4,
  "nbformat_minor": 5
}

