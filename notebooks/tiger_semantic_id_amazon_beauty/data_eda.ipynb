{
 "cells": [
  {
   "cell_type": "markdown",
   "metadata": {},
   "source": [
    "# Data EDA - Amazon Beauty Dataset\n",
    "\n",
    "Investigating why all item texts are identical in the TIGER SemanticID pipeline."
   ]
  },
  {
   "cell_type": "code",
   "execution_count": null,
   "metadata": {},
   "outputs": [],
   "source": [
    "# Clone repo, install dependencies, and make src importable (Colab-friendly)\n",
    "try:\n",
    "    import google.colab  # type: ignore\n",
    "    IN_COLAB = True\n",
    "except Exception:\n",
    "    IN_COLAB = False\n",
    "\n",
    "repo_url = 'https://github.com/allyoushawn/recsys_playground.git'\n",
    "repo_dir = 'recsys_playground'\n",
    "branch_name = '20250908_tiger_dev'\n",
    "\n",
    "import os\n",
    "if IN_COLAB:\n",
    "    if not os.path.exists(repo_dir):\n",
    "        !git clone $repo_url\n",
    "    %cd $repo_dir\n",
    "    !git fetch --all\n",
    "    !git checkout $branch_name || echo 'Branch not found; staying on default.'\n"
   ]
  },
  {
   "cell_type": "code",
   "execution_count": null,
   "metadata": {},
   "outputs": [],
   "source": "# Runtime & setup - same as main notebook\nimport os, sys, subprocess\nimport pandas as pd\nimport numpy as np\n\n# Make src importable - same path structure as main notebook\nsrc_path = os.path.abspath('tiger_semantic_id_amazon_beauty/src')\nif src_path not in sys.path: \n    sys.path.insert(0, src_path)\n\n# Import utilities first to setup paths and ensure directories exist\nfrom tiger_semantic_id_amazon_beauty.src.utils import set_seed, ensure_dirs, Paths\nset_seed(42)\nensure_dirs(Paths.data_dir, Paths.artifacts_dir)\n\nprint(f'Data directory: {Paths.data_dir}')\nprint(f'Artifacts directory: {Paths.artifacts_dir}')\n\n# Now import data processing functions\nfrom tiger_semantic_id_amazon_beauty.src.data import load_reviews_df, load_meta_df, filter_and_split, build_id_maps, apply_id_maps\nfrom tiger_semantic_id_amazon_beauty.src.embeddings import build_item_text"
  },
  {
   "cell_type": "code",
   "execution_count": null,
   "metadata": {},
   "outputs": [],
   "source": [
    "# Load raw data\n",
    "print(\"=== LOADING RAW DATA ===\")\n",
    "reviews = load_reviews_df(f\"{Paths.data_dir}/reviews_Beauty_5.json.gz\")\n",
    "meta = load_meta_df(f\"{Paths.data_dir}/meta_Beauty.json.gz\")\n",
    "\n",
    "print(f\"Reviews shape: {reviews.shape}\")\n",
    "print(f\"Meta shape: {meta.shape}\")\n",
    "print(f\"Reviews columns: {reviews.columns.tolist()}\")\n",
    "print(f\"Meta columns: {meta.columns.tolist()}\")"
   ]
  },
  {
   "cell_type": "code",
   "source": "# Download data if needed\nfrom tiger_semantic_id_amazon_beauty.src.data import SNAP_REVIEWS, SNAP_META\n\n# Check if data files exist, download if not\nreviews_path = f\"{Paths.data_dir}/reviews_Beauty_5.json.gz\"\nmeta_path = f\"{Paths.data_dir}/meta_Beauty.json.gz\"\n\nif not os.path.exists(reviews_path):\n    print(\"Downloading reviews data...\")\n    !wget -q -O {reviews_path} {SNAP_REVIEWS}\n    \nif not os.path.exists(meta_path):\n    print(\"Downloading meta data...\")\n    !wget -q -O {meta_path} {SNAP_META}\n    \nprint(\"Data files ready!\")",
   "metadata": {},
   "execution_count": null,
   "outputs": []
  },
  {
   "cell_type": "code",
   "execution_count": null,
   "metadata": {},
   "outputs": [],
   "source": [
    "# Examine meta data in detail\n",
    "print(\"=== META DATA ANALYSIS ===\")\n",
    "print(f\"Meta data sample (first 5 rows):\")\n",
    "print(meta.head())\n",
    "print(f\"\\nMeta data dtypes:\")\n",
    "print(meta.dtypes)\n",
    "print(f\"\\nNull values:\")\n",
    "print(meta.isnull().sum())"
   ]
  },
  {
   "cell_type": "code",
   "execution_count": null,
   "metadata": {},
   "outputs": [],
   "source": [
    "# Check specific columns that should contain item information\n",
    "print(\"=== CHECKING KEY COLUMNS ===\")\n",
    "key_cols = ['title', 'description', 'category', 'categories', 'brand', 'price']\n",
    "for col in key_cols:\n",
    "    if col in meta.columns:\n",
    "        print(f\"\\n{col} column:\")\n",
    "        print(f\"  Unique values: {meta[col].nunique()}\")\n",
    "        print(f\"  Null values: {meta[col].isnull().sum()}\")\n",
    "        print(f\"  Sample values: {meta[col].dropna().head(3).tolist()}\")\n",
    "    else:\n",
    "        print(f\"\\n{col} column: NOT FOUND\")"
   ]
  },
  {
   "cell_type": "code",
   "execution_count": null,
   "metadata": {},
   "outputs": [],
   "source": [
    "# Process data as in main notebook\n",
    "print(\"=== DATA PROCESSING ===\")\n",
    "from tiger_semantic_id_amazon_beauty.src.data import BeautyConfig\n",
    "train_df, val_df, test_df = filter_and_split(reviews, BeautyConfig())\n",
    "user2id, item2id = build_id_maps([train_df, val_df, test_df])\n",
    "train_df = apply_id_maps(train_df, user2id, item2id)\n",
    "val_df = apply_id_maps(val_df, user2id, item2id)\n",
    "test_df = apply_id_maps(test_df, user2id, item2id)\n",
    "\n",
    "print(f\"Number of unique items in item2id: {len(item2id)}\")\n",
    "print(f\"Sample item_ids: {list(item2id.keys())[:5]}\")"
   ]
  },
  {
   "cell_type": "code",
   "execution_count": null,
   "metadata": {},
   "outputs": [],
   "source": [
    "# Create items dataframe as in main notebook\n",
    "print(\"=== ITEMS DATAFRAME CREATION ===\")\n",
    "items = pd.DataFrame({\n",
    "    'item_id': list(item2id.keys()), \n",
    "    'item_idx': list(item2id.values())\n",
    "}).merge(meta, on='item_id', how='left')\n",
    "\n",
    "print(f\"Items shape: {items.shape}\")\n",
    "print(f\"Items columns: {items.columns.tolist()}\")\n",
    "print(f\"\\nFirst 5 items:\")\n",
    "print(items.head())"
   ]
  },
  {
   "cell_type": "code",
   "execution_count": null,
   "metadata": {},
   "outputs": [],
   "source": [
    "# Check if items have diverse metadata\n",
    "print(\"=== ITEMS DIVERSITY CHECK ===\")\n",
    "for col in ['title', 'description', 'category', 'categories', 'brand']:\n",
    "    if col in items.columns:\n",
    "        unique_vals = items[col].nunique(dropna=True)\n",
    "        total_vals = len(items)\n",
    "        print(f\"{col}: {unique_vals} unique values out of {total_vals} items\")\n",
    "        if unique_vals <= 10:  # Show actual values if small number\n",
    "            print(f\"  Values: {items[col].dropna().unique().tolist()}\")\n",
    "        else:\n",
    "            print(f\"  Sample: {items[col].dropna().head(5).tolist()}\")\n",
    "    else:\n",
    "        print(f\"{col}: Column not found\")"
   ]
  },
  {
   "cell_type": "code",
   "execution_count": null,
   "metadata": {},
   "outputs": [],
   "source": [
    "# Test the build_item_text function\n",
    "print(\"=== TESTING build_item_text FUNCTION ===\")\n",
    "# Take first 10 items\n",
    "sample_items = items.head(10)\n",
    "texts = build_item_text(sample_items)\n",
    "\n",
    "print(f\"Generated {len(texts)} texts\")\n",
    "print(f\"All texts identical? {all(texts[0] == text for text in texts)}\")\n",
    "print(f\"\\nFirst 3 generated texts:\")\n",
    "for i, text in enumerate(texts[:3]):\n",
    "    print(f\"Text {i}: {repr(text)}\")"
   ]
  },
  {
   "cell_type": "code",
   "execution_count": null,
   "metadata": {},
   "outputs": [],
   "source": [
    "# Examine the build_item_text function implementation\n",
    "print(\"=== EXAMINING build_item_text IMPLEMENTATION ===\")\n",
    "import inspect\n",
    "print(\"Function source:\")\n",
    "print(inspect.getsource(build_item_text))"
   ]
  },
  {
   "cell_type": "code",
   "execution_count": null,
   "metadata": {},
   "outputs": [],
   "source": [
    "# Manual text building to debug\n",
    "print(\"=== MANUAL TEXT BUILDING DEBUG ===\")\n",
    "sample_items = items.head(5)\n",
    "print(\"Raw item data:\")\n",
    "for i, (_, item) in enumerate(sample_items.iterrows()):\n",
    "    print(f\"\\nItem {i}:\")\n",
    "    for col in ['item_id', 'title', 'description', 'category', 'categories', 'brand']:\n",
    "        if col in item:\n",
    "            print(f\"  {col}: {repr(item[col])}\")\n",
    "        else:\n",
    "            print(f\"  {col}: NOT FOUND\")"
   ]
  }
 ],
 "metadata": {
  "kernelspec": {
   "display_name": "Python 3",
   "language": "python",
   "name": "python3"
  },
  "language_info": {
   "codemirror_mode": {
    "name": "ipython",
    "version": 3
   },
   "file_extension": ".py",
   "mimetype": "text/x-python",
   "name": "python",
   "nbconvert_exporter": "python",
   "pygments_lexer": "ipython3",
   "version": "3.8.5"
  }
 },
 "nbformat": 4,
 "nbformat_minor": 4
}