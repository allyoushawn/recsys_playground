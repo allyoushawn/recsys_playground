{
  "cells": [
    {
      "cell_type": "markdown",
      "id": "cefb3677",
      "metadata": {},
      "source": [
        "# Colab: PLE Data Prep + Training\n",
        "\n",
        "This notebook is meant to be copy-pasted into Google Colab to:\n",
        "\n",
        "1) Clone this repo and install dependencies\n",
        "2) Prepare the Census-Income (KDD) dataset\n",
        "3) Train the 2-level PLE model end-to-end"
      ]
    },
    {
      "cell_type": "code",
      "execution_count": null,
      "id": "09f1ef24",
      "metadata": {},
      "outputs": [],
      "source": [
        "# Clone repo, install dependencies, and make src importable (Colab-friendly)\n",
        "try:\n",
        "    import google.colab  # type: ignore\n",
        "    IN_COLAB = True\n",
        "except Exception:\n",
        "    IN_COLAB = False\n",
        "\n",
        "repo_url = 'https://github.com/allyoushawn/recsys_playground.git'\n",
        "repo_dir = 'recsys_playground'\n",
        "\n",
        "import os, sys\n",
        "if IN_COLAB:\n",
        "    if not os.path.exists(repo_dir):\n",
        "        !git clone $repo_url\n",
        "    %cd $repo_dir\n",
        "    !pip -q install -r requirements.txt\n",
        "    if os.path.exists('ple_experiment/requirements.txt'):\n",
        "        !pip -q install -r ple_experiment/requirements.txt\n",
        "    src_path = os.path.abspath('ple_experiment')\n",
        "    if src_path not in sys.path:\n",
        "        sys.path.insert(0, src_path)\n",
        "else:\n",
        "    repo_root = os.getcwd()\n",
        "    src_path = os.path.join(repo_root, 'ple_experiment')\n",
        "    if src_path not in sys.path:\n",
        "        sys.path.insert(0, src_path)\n"
      ]
    },
    {
      "cell_type": "markdown",
      "id": "6479b702",
      "metadata": {},
      "source": [
        "## Prepare Census-Income (KDD)"
      ]
    },
    {
      "cell_type": "code",
      "execution_count": null,
      "id": "92056b41",
      "metadata": {},
      "outputs": [],
      "source": [
        "# Generates X_*.npy, y_*.npy, and feature_meta.json under ./data/census_kdd\n",
        "output_dir = './data/census_kdd'\n",
        "!python ple_experiment/prepare_census_income.py \\\n",
        "        --output_dir $output_dir \\\n",
        "        --test_size 0.15 \\\n",
        "        --val_size 0.10 \\\n",
        "        --batch_size 4096 \\\n",
        "        --num_workers 2 \\\n",
        "        --onehot_min_freq 10 \\\n",
        "        --seed 42\n"
      ]
    },
    {
      "cell_type": "markdown",
      "id": "82c2a2ff",
      "metadata": {},
      "source": [
        "## Train PLE (2 levels)"
      ]
    },
    {
      "cell_type": "code",
      "execution_count": null,
      "id": "63be9ccc",
      "metadata": {},
      "outputs": [],
      "source": [
        "# Trains PLE and writes checkpoints + metrics to ./runs/ple_census\n",
        "out_dir = './runs/ple_census'\n",
        "!python ple_experiment/train_ple.py \\\n",
        "        --data_dir $output_dir \\\n",
        "        --out_dir $out_dir \\\n",
        "        --epochs 5 \\\n",
        "        --batch_size 4096 \\\n",
        "        --num_workers 2 \\\n",
        "        --lr 2e-3 \\\n",
        "        --weight_decay 1e-4 \\\n",
        "        --d_model 128 \\\n",
        "        --expert_hidden 256 \\\n",
        "        --num_levels 2 \\\n",
        "        --num_shared_experts 2 \\\n",
        "        --num_task_experts 2 \\\n",
        "        --dropout 0.1 \\\n",
        "        --w_income 1.0 \\\n",
        "        --w_never_married 1.0 \\\n",
        "        --use_pos_weight true \\\n",
        "        --grad_clip 1.0 \\\n",
        "        --mixed_precision true \\\n",
        "        --seed 42\n"
      ]
    },
    {
      "cell_type": "code",
      "execution_count": null,
      "id": "c900350e",
      "metadata": {},
      "outputs": [],
      "source": [
        "# Inspect outputs: show test report and tail metrics\n",
        "import json, os, itertools\n",
        "print('Artifacts under', out_dir)\n",
        "print(sorted(os.listdir(out_dir)))\n",
        "with open(f'{out_dir}/test_report.json','r') as f:\n",
        "    rep = json.load(f)\n",
        "rep\n"
      ]
    }
  ],
  "metadata": {
    "kernelspec": {
      "display_name": "Python 3",
      "language": "python",
      "name": "python3"
    },
    "language_info": {
      "name": "python",
      "version": "3.x"
    }
  },
  "nbformat": 4,
  "nbformat_minor": 5
}