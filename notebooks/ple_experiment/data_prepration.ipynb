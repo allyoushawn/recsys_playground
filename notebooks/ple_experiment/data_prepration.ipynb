{
  "cells": [
    {
      "cell_type": "markdown",
      "metadata": {},
      "source": [
        "# Colab Data Preparation Launcher\n",
        "\n",
        "This notebook is designed for Google Colab. It will:\n",
        "\n",
        "1. Clone the project repo\n",
        "2. Install dependencies\n",
        "3. Run the MovieLens baseline demo (optional)\n",
        "4. Run the Census-Income (KDD) preparation script (PLE) and sanity-check DataLoaders"
      ]
    },
    {
      "cell_type": "code",
      "execution_count": null,
      "metadata": {},
      "outputs": [],
      "source": [
        "# Detect Colab, clone the repo, install dependencies, and set up paths\n",
        "try:\n",
        "    import google.colab  # type: ignore\n",
        "    IN_COLAB = True\n",
        "except Exception:\n",
        "    IN_COLAB = False\n",
        "\n",
        "repo_url = 'https://github.com/allyoushawn/recsys_playground.git'\n",
        "repo_dir = 'recsys_playground'\n",
        "\n",
        "import os, sys\n",
        "if IN_COLAB:\n",
        "    if not os.path.exists(repo_dir):\n",
        "        !git clone $repo_url\n",
        "    %cd $repo_dir\n",
        "    # Install base and PLE experiment requirements\n",
        "    !pip -q install -r requirements.txt\n",
        "    if os.path.exists('ple_experiment/requirements.txt'):\n",
        "        !pip -q install -r ple_experiment/requirements.txt\n",
        "    # Make src importable\n",
        "    src_path = os.path.abspath('src')\n",
        "    if src_path not in sys.path:\n",
        "        sys.path.insert(0, src_path)\n",
        "else:\n",
        "    # Local usage: ensure src is importable\n",
        "    repo_root = os.getcwd()\n",
        "    src_path = os.path.join(repo_root, 'src')\n",
        "    if src_path not in sys.path:\n",
        "        sys.path.insert(0, src_path)\n"
      ]
    },
    {
      "cell_type": "markdown",
      "metadata": {},
      "source": [
        "## Prepare Census-Income (KDD) for PLE"
      ]
    },
    {
      "cell_type": "code",
      "execution_count": null,
      "metadata": {},
      "outputs": [],
      "source": [
        "# Runs the PLE prep script to produce train/val/test arrays and feature metadata\n",
        "output_dir = './data/census_kdd'\n",
        "!python ple_experiment/prepare_census_income.py \\\n",
        "        --output_dir $output_dir \\\n",
        "        --test_size 0.15 \\\n",
        "        --val_size 0.10 \\\n",
        "        --batch_size 4096 \\\n",
        "        --num_workers 4 \\\n",
        "        --onehot_min_freq 10 \\\n",
        "        --seed 42\n"
      ]
    },
    {
      "cell_type": "code",
      "execution_count": null,
      "metadata": {},
      "outputs": [],
      "source": [
        "# Inspect generated artifacts and do a minimal load\n",
        "import os, json, numpy as np\n",
        "from ple_experiment.dataset import CensusKDDDataset, make_dataloaders\n",
        "\n",
        "print('Files in output_dir:')\n",
        "print(sorted(os.listdir(output_dir))[:10])\n",
        "\n",
        "ds = CensusKDDDataset(output_dir, split='train')\n",
        "print('Train shapes:', ds.X.shape, ds.y_income.shape, ds.y_never.shape)\n",
        "\n",
        "loaders = make_dataloaders(output_dir, batch_size=1024, num_workers=2)\n",
        "batch = next(iter(loaders['train']))\n",
        "print('Batch shapes:', batch['x'].shape, batch['y_income'].shape, batch['y_never_married'].shape)\n"
      ]
    }
  ],
  "metadata": {
    "kernelspec": {
      "display_name": "Python 3",
      "language": "python",
      "name": "python3"
    },
    "language_info": {
      "name": "python",
      "version": "3.x"
    }
  },
  "nbformat": 4,
  "nbformat_minor": 5
}
